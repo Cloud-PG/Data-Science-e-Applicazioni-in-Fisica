{
 "cells": [
  {
   "cell_type": "code",
   "execution_count": 1,
   "id": "b2dfd8d7",
   "metadata": {},
   "outputs": [],
   "source": [
    "from jupyter_dash import JupyterDash"
   ]
  },
  {
   "cell_type": "code",
   "execution_count": 2,
   "id": "82bf8fdc",
   "metadata": {},
   "outputs": [],
   "source": [
    "import dash\n",
    "import dash_table\n",
    "import dash_core_components as dcc\n",
    "import dash_html_components as html\n",
    "from dash.dependencies import Input, Output\n",
    "\n",
    "import pandas as pd"
   ]
  },
  {
   "cell_type": "code",
   "execution_count": 5,
   "id": "76f0dfe1",
   "metadata": {},
   "outputs": [],
   "source": [
    "JupyterDash.infer_jupyter_proxy_config()"
   ]
  },
  {
   "cell_type": "code",
   "execution_count": 4,
   "id": "a13bfb7e",
   "metadata": {},
   "outputs": [
    {
     "data": {
      "text/html": [
       "\n",
       "        <iframe\n",
       "            width=\"100%\"\n",
       "            height=\"650\"\n",
       "            src=\"http://127.0.0.1:8053/\"\n",
       "            frameborder=\"0\"\n",
       "            allowfullscreen\n",
       "        ></iframe>\n",
       "        "
      ],
      "text/plain": [
       "<IPython.lib.display.IFrame at 0x1179166d0>"
      ]
     },
     "metadata": {},
     "output_type": "display_data"
    }
   ],
   "source": [
    "iris = pd.read_csv('https://raw.githubusercontent.com/mwaskom/seaborn-data/master/iris.csv')\n",
    "\n",
    "external_stylesheets = ['https://codepen.io/chriddyp/pen/bWLwgP.css']\n",
    "\n",
    "app = JupyterDash(__name__, external_stylesheets=external_stylesheets)\n",
    "\n",
    "app.layout = html.Div([\n",
    "    dcc.Dropdown(\n",
    "        id='class-dropdown',\n",
    "        options=[\n",
    "            {'label': class_, 'value': class_} for class_ in set(iris.species)\n",
    "        ],\n",
    "        value='setosa'\n",
    "    ),\n",
    "    dcc.Markdown(\n",
    "        iris[iris.species == \"setosa\"].to_markdown(), \n",
    "        id=\"markdown-table\",\n",
    "    ),\n",
    "    dash_table.DataTable(\n",
    "        id='table',\n",
    "        columns=[{\"name\": col, \"id\": col} for col in iris.columns],\n",
    "        data=iris.to_dict(\"records\"),\n",
    "        filter_action=\"native\",\n",
    "    )\n",
    "])\n",
    "\n",
    "@app.callback(\n",
    "    dash.dependencies.Output('markdown-table', 'children'),\n",
    "    dash.dependencies.Input('class-dropdown', 'value'),\n",
    ")\n",
    "def update_data(class_selected):\n",
    "    return iris[iris.species == class_selected].to_markdown()\n",
    "\n",
    "app.run_server(mode=\"inline\", port=8053)\n",
    "# OR\n",
    "# app.run_server(mode=\"jupyterlab\", port=8053)"
   ]
  },
  {
   "cell_type": "markdown",
   "id": "1f727c8d",
   "metadata": {},
   "source": [
    "---"
   ]
  },
  {
   "cell_type": "code",
   "execution_count": 2,
   "id": "bede4f8f",
   "metadata": {},
   "outputs": [
    {
     "name": "stdout",
     "output_type": "stream",
     "text": [
      "Dash is running on http://127.0.0.1:8050/\n",
      "\n",
      " * Serving Flask app \"__main__\" (lazy loading)\n",
      " * Environment: production\n",
      "\u001b[31m   WARNING: This is a development server. Do not use it in a production deployment.\u001b[0m\n",
      "\u001b[2m   Use a production WSGI server instead.\u001b[0m\n",
      " * Debug mode: off\n"
     ]
    },
    {
     "name": "stderr",
     "output_type": "stream",
     "text": [
      " * Running on http://127.0.0.1:8050/ (Press CTRL+C to quit)\n",
      "127.0.0.1 - - [03/May/2021 16:12:26] \"\u001b[37mGET / HTTP/1.1\u001b[0m\" 200 -\n",
      "127.0.0.1 - - [03/May/2021 16:12:27] \"\u001b[37mGET /_dash-component-suites/dash_table/bundle.v4_11_3m1620044898.js HTTP/1.1\u001b[0m\" 200 -\n",
      "127.0.0.1 - - [03/May/2021 16:12:28] \"\u001b[37mGET /_dash-layout HTTP/1.1\u001b[0m\" 200 -\n",
      "127.0.0.1 - - [03/May/2021 16:12:28] \"\u001b[37mGET /_dash-dependencies HTTP/1.1\u001b[0m\" 200 -\n",
      "127.0.0.1 - - [03/May/2021 16:12:28] \"\u001b[37mPOST /_dash-update-component HTTP/1.1\u001b[0m\" 200 -\n",
      "127.0.0.1 - - [03/May/2021 16:12:28] \"\u001b[37mGET /_dash-component-suites/dash_core_components/async-markdown.v1_16_0m1617903285.js HTTP/1.1\u001b[0m\" 200 -\n",
      "127.0.0.1 - - [03/May/2021 16:12:28] \"\u001b[37mGET /_dash-component-suites/dash_table/async-highlight.js HTTP/1.1\u001b[0m\" 200 -\n",
      "127.0.0.1 - - [03/May/2021 16:12:28] \"\u001b[37mGET /_favicon.ico?v=1.20.0 HTTP/1.1\u001b[0m\" 200 -\n",
      "127.0.0.1 - - [03/May/2021 16:12:28] \"\u001b[37mGET /_dash-component-suites/dash_table/async-table.js HTTP/1.1\u001b[0m\" 200 -\n",
      "127.0.0.1 - - [03/May/2021 16:12:28] \"\u001b[37mGET /_dash-component-suites/dash_core_components/async-highlight.v1_16_0m1617903285.js HTTP/1.1\u001b[0m\" 200 -\n",
      "127.0.0.1 - - [03/May/2021 16:12:36] \"\u001b[37mPOST /_dash-update-component HTTP/1.1\u001b[0m\" 200 -\n"
     ]
    }
   ],
   "source": [
    "import dash\n",
    "import dash_table\n",
    "import dash_core_components as dcc\n",
    "import dash_html_components as html\n",
    "from dash.dependencies import Input, Output\n",
    "\n",
    "import pandas as pd\n",
    "\n",
    "iris = pd.read_csv('https://raw.githubusercontent.com/mwaskom/seaborn-data/master/iris.csv')\n",
    "\n",
    "external_stylesheets = ['https://codepen.io/chriddyp/pen/bWLwgP.css']\n",
    "\n",
    "app = dash.Dash(__name__, external_stylesheets=external_stylesheets)\n",
    "\n",
    "app.layout = html.Div([\n",
    "    dash_table.DataTable(\n",
    "        id='table',\n",
    "        columns=[{\"name\": col, \"id\": col} for col in iris.columns],\n",
    "        data=iris.to_dict(\"records\"),\n",
    "        filter_action=\"native\",\n",
    "    )\n",
    "])\n",
    "\n",
    "if __name__ == '__main__':\n",
    "    app.run_server()"
   ]
  },
  {
   "cell_type": "code",
   "execution_count": null,
   "id": "4a19b7ab",
   "metadata": {},
   "outputs": [],
   "source": []
  }
 ],
 "metadata": {
  "kernelspec": {
   "display_name": "Python 3",
   "language": "python",
   "name": "python3"
  },
  "language_info": {
   "codemirror_mode": {
    "name": "ipython",
    "version": 3
   },
   "file_extension": ".py",
   "mimetype": "text/x-python",
   "name": "python",
   "nbconvert_exporter": "python",
   "pygments_lexer": "ipython3",
   "version": "3.9.5"
  }
 },
 "nbformat": 4,
 "nbformat_minor": 5
}
