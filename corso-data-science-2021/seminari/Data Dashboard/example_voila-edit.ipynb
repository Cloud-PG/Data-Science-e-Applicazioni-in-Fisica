{
 "cells": [
  {
   "cell_type": "markdown",
   "id": "1f03257e",
   "metadata": {},
   "source": [
    "# So easy, *voilà*!\n",
    "\n",
    "Seleziona la specie da visualizzare"
   ]
  },
  {
   "cell_type": "code",
   "execution_count": 1,
   "id": "aa35a62b",
   "metadata": {
    "scrolled": true
   },
   "outputs": [
    {
     "data": {
      "application/vnd.jupyter.widget-view+json": {
       "model_id": "",
       "version_major": 2,
       "version_minor": 0
      },
      "text/plain": [
       "VBox(children=(SelectionSlider(options=('setosa', 'versicolor', 'virginica'), value='setosa'), HTML(value='<ta…"
      ]
     },
     "metadata": {},
     "output_type": "display_data"
    }
   ],
   "source": [
    "import ipywidgets as widgets\n",
    "import pandas as pd\n",
    "\n",
    "iris = pd.read_csv('https://raw.githubusercontent.com/mwaskom/seaborn-data/master/iris.csv')\n",
    "\n",
    "class_selection = widgets.SelectionSlider(options=(\"setosa\", \"versicolor\", \"virginica\"))\n",
    "html = widgets.HTML(iris[iris.species == class_selection.value].to_html())\n",
    "\n",
    "def select_class(*_):\n",
    "    html.value = iris[iris.species == class_selection.value].to_html()\n",
    "\n",
    "class_selection.observe(select_class, 'value')\n",
    "\n",
    "widgets.VBox([class_selection, html])"
   ]
  },
  {
   "cell_type": "code",
   "execution_count": null,
   "id": "23ac328c",
   "metadata": {},
   "outputs": [],
   "source": []
  }
 ],
 "metadata": {
  "kernelspec": {
   "display_name": "Python 3",
   "language": "python",
   "name": "python3"
  },
  "language_info": {
   "codemirror_mode": {
    "name": "ipython",
    "version": 3
   },
   "file_extension": ".py",
   "mimetype": "text/x-python",
   "name": "python",
   "nbconvert_exporter": "python",
   "pygments_lexer": "ipython3",
   "version": "3.9.5"
  }
 },
 "nbformat": 4,
 "nbformat_minor": 5
}
